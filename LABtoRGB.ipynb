{
 "cells": [
  {
   "cell_type": "markdown",
   "metadata": {},
   "source": [
    "# CIE L\\*a\\*b\\*系の色相を表示する"
   ]
  },
  {
   "cell_type": "markdown",
   "metadata": {},
   "source": [
    "## L\\*a\\*b\\*からXYZへの変換\n",
    "参考:http://w3.kcua.ac.jp/~fujiwara/infosci/colorspace/colorspace3.html\n",
    "\\begin{equation*}\n",
    "f_{y} = \\frac{L^{*}+16}{116} \\\\\n",
    "f_{x} = f_{y}+\\frac{a^{*}}{500} \\\\\n",
    "f_{z} = f_{y}-\\frac{b^{*}}{200} \n",
    "\\end{equation*}\n",
    "とすると\n",
    "\\begin{equation*}\n",
    " Y =\\left\\{ \\begin{array}{ll}\n",
    "  f_{y}^{3}Y_{n} & (f_{y} > 6/29) \\\\\n",
    "  (3/29)^{3} (116f_{y} − 16) Y_{n} & (f_{y} \\leq 6/29) \\\\\n",
    " \\end{array}\\right. \\\\\n",
    " \\\\\n",
    " X =\\left\\{ \\begin{array}{ll}\n",
    "  f_{x}^{3}X_{n} & (f_{x} > 6/29) \\\\\n",
    "  (3/29)^{3} (116f_{x} − 16) X_{n} & (f_{x} \\leq 6/29) \\\\\n",
    " \\end{array} \\right. \\\\\n",
    "  \\\\\n",
    "  Z =\\left\\{ \\begin{array}{ll}\n",
    "  f_{z}^{3}Z_{n} & (f_{z} > 6/29) \\\\\n",
    "  (3/29)^{3} (116f_{z} − 16) Z_{n} & (f_{z} \\leq 6/29) \\\\\n",
    " \\end{array} \\right. \\\\\n",
    "\\end{equation*}\n",
    "## XYZ値からSRGBへ計算する\n",
    "参考：http://www005.upp.so-net.ne.jp/fumoto/linkp25.htm\n",
    "### XYZ値からリニアRGBを計算する\n",
    "\\begin{equation*}\n",
    "R = 3.5064X - 1.7400Y - 0.5441Z  \\\\\n",
    "G = -1.0690X  + 1.9777Y + 0.0352Z \\\\ \n",
    "B= 0.0563X - 0.1970Y + 1.0511Z \\\\\n",
    "\\end{equation*}\n",
    "### リニアRGBからsRGBへ\n",
    "モニター画面の輝度の増加がRGB値の増加と直線関係でないため\n",
    "ガンマ補正を行う\n",
    "\\begin{equation*}\n",
    "R '= R^{\\frac{1}{2.2}} \\\\\n",
    "G'= G^{\\frac{1}{2.2}} \\\\\n",
    "B '= B^{\\frac{1}{2.2}} \\\\\n",
    "\\end{equation*}"
   ]
  },
  {
   "cell_type": "code",
   "execution_count": 1,
   "metadata": {
    "collapsed": true
   },
   "outputs": [],
   "source": [
    "def LABtoRGB(L,a,b):\n",
    "#D65の場合\n",
    "    Xn = 95.045\n",
    "    Yn = 100\n",
    "    Zn = 108.892\n",
    "    \n",
    "    delta = 6./29.\n",
    "    def F(f,Wn):\n",
    "        if f > delta:\n",
    "            return (f**3)*Wn\n",
    "        else:\n",
    "            return ((3./29.)**3)*(116*f-16)*Wn\n",
    "    def norm(x):\n",
    "        if x < 0:\n",
    "            return 0\n",
    "        elif x > 1:\n",
    "            return 1\n",
    "        return x\n",
    "\n",
    "    fy = (L+16)/116\n",
    "    fx = fy + a/500\n",
    "    fz = fy - b/200\n",
    "    \n",
    "    X = F(fx,Xn)\n",
    "    Y = F(fy,Yn)\n",
    "    Z = F(fz,Zn)\n",
    "    R =(0.035064*X-0.017400*Y-0.005441*Z)\n",
    "    G =(-0.010690*X+0.019777*Y+0.000352*Z)\n",
    "    B =(0.000563*X-0.001970*Y+0.010511*Z)\n",
    "\n",
    "    sR = int((norm(R)**(1/2.2))*255)\n",
    "    sG = int((norm(G)**(1/2.2))*255)\n",
    "    sB = int((norm(B)**(1/2.2))*255)\n",
    "    return sR,sG,sB"
   ]
  },
  {
   "cell_type": "code",
   "execution_count": 2,
   "metadata": {
    "collapsed": true
   },
   "outputs": [],
   "source": [
    "from PIL import Image"
   ]
  },
  {
   "cell_type": "code",
   "execution_count": 3,
   "metadata": {
    "collapsed": true
   },
   "outputs": [],
   "source": [
    "def drawLab(L,a1,b1,a2,b2,xsize,ysize):\n",
    "    im = Image.new('RGB',(xsize,ysize))\n",
    "    for i in range(xsize):\n",
    "        for j in range(ysize):\n",
    "            im.putpixel((i,j),LABtoRGB(L,(a2-a1)/xsize*i+a1,b2-(b2-b1)/ysize*j))\n",
    "    return im"
   ]
  },
  {
   "cell_type": "code",
   "execution_count": 4,
   "metadata": {
    "collapsed": true
   },
   "outputs": [],
   "source": [
    "import matplotlib.pyplot as plt"
   ]
  },
  {
   "cell_type": "code",
   "execution_count": 5,
   "metadata": {
    "collapsed": true
   },
   "outputs": [],
   "source": [
    "%matplotlib inline"
   ]
  },
  {
   "cell_type": "code",
   "execution_count": 10,
   "metadata": {},
   "outputs": [
    {
     "name": "stdout",
     "output_type": "stream",
     "text": [
      "CPU times: user 1.02 s, sys: 0 ns, total: 1.02 s\n",
      "Wall time: 1.03 s\n"
     ]
    }
   ],
   "source": [
    "%time img= drawLab(5,-20,-20,20,20,100,100)"
   ]
  },
  {
   "cell_type": "code",
   "execution_count": 12,
   "metadata": {},
   "outputs": [
    {
     "data": {
      "text/plain": [
       "<matplotlib.image.AxesImage at 0x6ec34030>"
      ]
     },
     "execution_count": 12,
     "metadata": {},
     "output_type": "execute_result"
    },
    {
     "data": {
      "image/png": "[encoded data removed]",
      "text/plain": [
       "<matplotlib.figure.Figure at 0x6fe1b770>"
      ]
     },
     "metadata": {},
     "output_type": "display_data"
    }
   ],
   "source": [
    "plt.imshow(img)"
   ]
  },
  {
   "cell_type": "code",
   "execution_count": null,
   "metadata": {
    "collapsed": true
   },
   "outputs": [],
   "source": []
  }
 ],
 "metadata": {
  "kernelspec": {
   "display_name": "Python 3",
   "language": "python",
   "name": "python3"
  },
  "language_info": {
   "codemirror_mode": {
    "name": "ipython",
    "version": 3
   },
   "file_extension": ".py",
   "mimetype": "text/x-python",
   "name": "python",
   "nbconvert_exporter": "python",
   "pygments_lexer": "ipython3",
   "version": "3.4.2"
  }
 },
 "nbformat": 4,
 "nbformat_minor": 2
}
