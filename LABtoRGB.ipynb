{
 "cells": [
  {
   "cell_type": "markdown",
   "metadata": {},
   "source": [
    "# CIE L\\*a\\*b\\*系の色相を表示する"
   ]
  },
  {
   "cell_type": "code",
   "execution_count": 1,
   "metadata": {
    "collapsed": true
   },
   "outputs": [],
   "source": [
    "from PIL import Image\n",
    "import matplotlib.pyplot as plt\n",
    "%matplotlib inline"
   ]
  },
  {
   "cell_type": "code",
   "execution_count": 2,
   "metadata": {
    "collapsed": true
   },
   "outputs": [],
   "source": [
    "def LABtoRGB(L,a,b):\n",
    "#D65の場合\n",
    "    Xn = 95.045\n",
    "    Yn = 100\n",
    "    Zn = 108.892\n",
    "    \n",
    "    delta = 6./29.\n",
    "    def F(f,Wn):\n",
    "        if f > delta:\n",
    "            return (f**3)*Wn\n",
    "        else:\n",
    "            return ((3./29.)**3)*(116*f-16)*Wn\n",
    "    def norm(x):\n",
    "        if x < 0:\n",
    "            return 0\n",
    "        elif x > 1:\n",
    "            return 1\n",
    "        return x\n",
    "\n",
    "    fy = (L+16)/116\n",
    "    fx = fy + a/500\n",
    "    fz = fy - b/200\n",
    "    \n",
    "    X = F(fx,Xn)\n",
    "    Y = F(fy,Yn)\n",
    "    Z = F(fz,Zn)\n",
    "    R =(0.035064*X-0.017400*Y-0.005441*Z)\n",
    "    G =(-0.010690*X+0.019777*Y+0.000352*Z)\n",
    "    B =(0.000563*X-0.001970*Y+0.010511*Z)\n",
    "\n",
    "    sR = int((norm(R)**(1/2.2))*255)\n",
    "    sG = int((norm(G)**(1/2.2))*255)\n",
    "    sB = int((norm(B)**(1/2.2))*255)\n",
    "    return sR,sG,sB"
   ]
  },
  {
   "cell_type": "code",
   "execution_count": 3,
   "metadata": {
    "collapsed": true
   },
   "outputs": [],
   "source": [
    "def drawLab(L,a1,b1,a2,b2,xsize,ysize):\n",
    "    im = Image.new('RGB',(xsize,ysize))\n",
    "    for i in range(xsize):\n",
    "        for j in range(ysize):\n",
    "            im.putpixel((i,j),LABtoRGB(L,(a2-a1)/xsize*i+a1,b2-(b2-b1)/ysize*j))\n",
    "    return im"
   ]
  },
  {
   "cell_type": "code",
   "execution_count": 4,
   "metadata": {},
   "outputs": [],
   "source": [
    "img= drawLab(50,-20,-20,20,20,100,100)"
   ]
  },
  {
   "cell_type": "code",
   "execution_count": 5,
   "metadata": {},
   "outputs": [
    {
     "data": {
      "text/plain": [
       "<matplotlib.image.AxesImage at 0x1158171f0>"
      ]
     },
     "execution_count": 5,
     "metadata": {},
     "output_type": "execute_result"
    },
    {
     "data": {
      "image/png": "[encoded data removed]",
      "text/plain": [
       "<Figure size 640x480 with 1 Axes>"
      ]
     },
     "metadata": {},
     "output_type": "display_data"
    }
   ],
   "source": [
    "plt.imshow(img)"
   ]
  },
  {
   "cell_type": "markdown",
   "metadata": {},
   "source": []
  }
 ],
 "metadata": {
  "kernelspec": {
   "display_name": "Python 3",
   "language": "python",
   "name": "python3"
  },
  "language_info": {
   "codemirror_mode": {
    "name": "ipython",
    "version": 3
   },
   "file_extension": ".py",
   "mimetype": "text/x-python",
   "name": "python",
   "nbconvert_exporter": "python",
   "pygments_lexer": "ipython3",
   "version": "3.9.9"
  }
 },
 "nbformat": 4,
 "nbformat_minor": 2
}
